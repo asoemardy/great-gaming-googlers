{
 "cells": [
  {
   "cell_type": "markdown",
   "metadata": {},
   "source": [
    "# Preliminary Data Analysis"
   ]
  },
  {
   "cell_type": "markdown",
   "metadata": {},
   "source": [
    "#### Summary:\n",
    "1. Importing Dependencies\n",
    "2. Pull CSV File from previous work\n",
    "3. Merge data\n",
    "4. Graph data to get sum of viewers for each game\n",
    "5. Show the dataframe for the counts of each game played by Streamer"
   ]
  },
  {
   "cell_type": "markdown",
   "metadata": {},
   "source": [
    "### 1. Importing Dependencies:"
   ]
  },
  {
   "cell_type": "code",
   "execution_count": 1,
   "metadata": {},
   "outputs": [],
   "source": [
    "import pandas as pd\n",
    "import matplotlib.pyplot as plt"
   ]
  },
  {
   "cell_type": "markdown",
   "metadata": {},
   "source": [
    "### 2. Pull CSV File"
   ]
  },
  {
   "cell_type": "code",
   "execution_count": 2,
   "metadata": {},
   "outputs": [],
   "source": [
    "# Pulling top 50 data from csv file in Data\n",
    "df_top_50 = pd.read_csv('Data/streamer_game_data.csv')\n",
    "\n",
    "# Pulling the top games data from csv file in Data\n",
    "df_top_games = pd.read_csv('Data/top_game_ranking.csv')\n"
   ]
  },
  {
   "cell_type": "markdown",
   "metadata": {},
   "source": [
    "### 3. Merge Data"
   ]
  },
  {
   "cell_type": "code",
   "execution_count": 3,
   "metadata": {},
   "outputs": [
    {
     "data": {
      "text/html": [
       "<div>\n",
       "<style scoped>\n",
       "    .dataframe tbody tr th:only-of-type {\n",
       "        vertical-align: middle;\n",
       "    }\n",
       "\n",
       "    .dataframe tbody tr th {\n",
       "        vertical-align: top;\n",
       "    }\n",
       "\n",
       "    .dataframe thead th {\n",
       "        text-align: right;\n",
       "    }\n",
       "</style>\n",
       "<table border=\"1\" class=\"dataframe\">\n",
       "  <thead>\n",
       "    <tr style=\"text-align: right;\">\n",
       "      <th></th>\n",
       "      <th>Channel</th>\n",
       "      <th>Average viewers</th>\n",
       "      <th>Followers</th>\n",
       "      <th>Game ID</th>\n",
       "      <th>Game Name</th>\n",
       "      <th>0</th>\n",
       "    </tr>\n",
       "  </thead>\n",
       "  <tbody>\n",
       "    <tr>\n",
       "      <th>0</th>\n",
       "      <td>Tfue</td>\n",
       "      <td>29602</td>\n",
       "      <td>8938903</td>\n",
       "      <td>512710</td>\n",
       "      <td>Call Of Duty: Modern Warfare</td>\n",
       "      <td>3</td>\n",
       "    </tr>\n",
       "    <tr>\n",
       "      <th>1</th>\n",
       "      <td>DrDisrespect</td>\n",
       "      <td>23794</td>\n",
       "      <td>4450718</td>\n",
       "      <td>512710</td>\n",
       "      <td>Call Of Duty: Modern Warfare</td>\n",
       "      <td>3</td>\n",
       "    </tr>\n",
       "    <tr>\n",
       "      <th>2</th>\n",
       "      <td>NICKMERCS</td>\n",
       "      <td>24181</td>\n",
       "      <td>4074287</td>\n",
       "      <td>512710</td>\n",
       "      <td>Call Of Duty: Modern Warfare</td>\n",
       "      <td>3</td>\n",
       "    </tr>\n",
       "    <tr>\n",
       "      <th>3</th>\n",
       "      <td>Symfuhny</td>\n",
       "      <td>7327</td>\n",
       "      <td>2355063</td>\n",
       "      <td>512710</td>\n",
       "      <td>Call Of Duty: Modern Warfare</td>\n",
       "      <td>3</td>\n",
       "    </tr>\n",
       "    <tr>\n",
       "      <th>4</th>\n",
       "      <td>cloakzy</td>\n",
       "      <td>6743</td>\n",
       "      <td>2138294</td>\n",
       "      <td>512710</td>\n",
       "      <td>Call Of Duty: Modern Warfare</td>\n",
       "      <td>3</td>\n",
       "    </tr>\n",
       "  </tbody>\n",
       "</table>\n",
       "</div>"
      ],
      "text/plain": [
       "        Channel  Average viewers  Followers  Game ID  \\\n",
       "0          Tfue            29602    8938903   512710   \n",
       "1  DrDisrespect            23794    4450718   512710   \n",
       "2     NICKMERCS            24181    4074287   512710   \n",
       "3      Symfuhny             7327    2355063   512710   \n",
       "4       cloakzy             6743    2138294   512710   \n",
       "\n",
       "                      Game Name  0  \n",
       "0  Call Of Duty: Modern Warfare  3  \n",
       "1  Call Of Duty: Modern Warfare  3  \n",
       "2  Call Of Duty: Modern Warfare  3  \n",
       "3  Call Of Duty: Modern Warfare  3  \n",
       "4  Call Of Duty: Modern Warfare  3  "
      ]
     },
     "execution_count": 3,
     "metadata": {},
     "output_type": "execute_result"
    }
   ],
   "source": [
    "df_merged = df_top_50.merge(df_top_games, on = \"Game Name\")\n",
    "df_merged.head()"
   ]
  },
  {
   "cell_type": "markdown",
   "metadata": {},
   "source": [
    "### 4. Graph Data"
   ]
  },
  {
   "cell_type": "code",
   "execution_count": 4,
   "metadata": {},
   "outputs": [
    {
     "data": {
      "text/html": [
       "<div>\n",
       "<style scoped>\n",
       "    .dataframe tbody tr th:only-of-type {\n",
       "        vertical-align: middle;\n",
       "    }\n",
       "\n",
       "    .dataframe tbody tr th {\n",
       "        vertical-align: top;\n",
       "    }\n",
       "\n",
       "    .dataframe thead th {\n",
       "        text-align: right;\n",
       "    }\n",
       "</style>\n",
       "<table border=\"1\" class=\"dataframe\">\n",
       "  <thead>\n",
       "    <tr style=\"text-align: right;\">\n",
       "      <th></th>\n",
       "      <th>Game Name</th>\n",
       "      <th>Average viewers</th>\n",
       "      <th>Followers</th>\n",
       "      <th>Game ID</th>\n",
       "      <th>0</th>\n",
       "    </tr>\n",
       "  </thead>\n",
       "  <tbody>\n",
       "    <tr>\n",
       "      <th>0</th>\n",
       "      <td>Call Of Duty: Modern Warfare</td>\n",
       "      <td>103871</td>\n",
       "      <td>25774175</td>\n",
       "      <td>3588970</td>\n",
       "      <td>21</td>\n",
       "    </tr>\n",
       "    <tr>\n",
       "      <th>1</th>\n",
       "      <td>Fortnite</td>\n",
       "      <td>90780</td>\n",
       "      <td>15978400</td>\n",
       "      <td>199284</td>\n",
       "      <td>36</td>\n",
       "    </tr>\n",
       "    <tr>\n",
       "      <th>2</th>\n",
       "      <td>Just Chatting</td>\n",
       "      <td>77106</td>\n",
       "      <td>23027048</td>\n",
       "      <td>2548290</td>\n",
       "      <td>10</td>\n",
       "    </tr>\n",
       "    <tr>\n",
       "      <th>3</th>\n",
       "      <td>League of Legends</td>\n",
       "      <td>60852</td>\n",
       "      <td>14070534</td>\n",
       "      <td>108895</td>\n",
       "      <td>20</td>\n",
       "    </tr>\n",
       "    <tr>\n",
       "      <th>4</th>\n",
       "      <td>VALORANT</td>\n",
       "      <td>55222</td>\n",
       "      <td>13054229</td>\n",
       "      <td>1033150</td>\n",
       "      <td>16</td>\n",
       "    </tr>\n",
       "  </tbody>\n",
       "</table>\n",
       "</div>"
      ],
      "text/plain": [
       "                      Game Name  Average viewers  Followers  Game ID   0\n",
       "0  Call Of Duty: Modern Warfare           103871   25774175  3588970  21\n",
       "1                      Fortnite            90780   15978400   199284  36\n",
       "2                 Just Chatting            77106   23027048  2548290  10\n",
       "3             League of Legends            60852   14070534   108895  20\n",
       "4                      VALORANT            55222   13054229  1033150  16"
      ]
     },
     "execution_count": 4,
     "metadata": {},
     "output_type": "execute_result"
    }
   ],
   "source": [
    "# We want to get the sum of the average viewers for each game\n",
    "df_graph = df_merged.groupby('Game Name').sum()\n",
    "\n",
    "# Sort the dataframe based on average viewers\n",
    "df_graph = df_graph.sort_values(by=['Average viewers'], ascending = False)\n",
    "\n",
    "# Reset the index\n",
    "df_graph = df_graph.reset_index()\n",
    "\n",
    "df_graph.head()"
   ]
  },
  {
   "cell_type": "code",
   "execution_count": 5,
   "metadata": {},
   "outputs": [
    {
     "data": {
      "image/png": "[encoded data removed]",
      "text/plain": [
       "<Figure size 1440x720 with 1 Axes>"
      ]
     },
     "metadata": {
      "needs_background": "light"
     },
     "output_type": "display_data"
    }
   ],
   "source": [
    "# Plotting the dataframe\n",
    "\n",
    "x_axis = df_graph['Game Name']\n",
    "y_axis = df_graph['Average viewers']\n",
    "\n",
    "#Create the bar chat\n",
    "plt.figure(figsize=(20,10))\n",
    "plt.bar(x_axis, y_axis, color='b', alpha=0.5, align=\"center\")\n",
    "plt.xticks(rotation = 'vertical')\n",
    "plt.title(\"Top 50 Streamers Game Views\")\n",
    "plt.xlabel(\"Game Name\")\n",
    "plt.ylabel(\"Average Viewers\");"
   ]
  },
  {
   "cell_type": "markdown",
   "metadata": {},
   "source": [
    "### 5. Showing Counts of streamers in dataframe"
   ]
  },
  {
   "cell_type": "code",
   "execution_count": 6,
   "metadata": {},
   "outputs": [
    {
     "data": {
      "text/html": [
       "<div>\n",
       "<style scoped>\n",
       "    .dataframe tbody tr th:only-of-type {\n",
       "        vertical-align: middle;\n",
       "    }\n",
       "\n",
       "    .dataframe tbody tr th {\n",
       "        vertical-align: top;\n",
       "    }\n",
       "\n",
       "    .dataframe thead th {\n",
       "        text-align: right;\n",
       "    }\n",
       "</style>\n",
       "<table border=\"1\" class=\"dataframe\">\n",
       "  <thead>\n",
       "    <tr style=\"text-align: right;\">\n",
       "      <th></th>\n",
       "      <th>Number of Streamers</th>\n",
       "    </tr>\n",
       "    <tr>\n",
       "      <th>Game Name</th>\n",
       "      <th></th>\n",
       "    </tr>\n",
       "  </thead>\n",
       "  <tbody>\n",
       "    <tr>\n",
       "      <th>Call Of Duty: Modern Warfare</th>\n",
       "      <td>7</td>\n",
       "    </tr>\n",
       "    <tr>\n",
       "      <th>Fortnite</th>\n",
       "      <td>6</td>\n",
       "    </tr>\n",
       "    <tr>\n",
       "      <th>Among Us</th>\n",
       "      <td>5</td>\n",
       "    </tr>\n",
       "    <tr>\n",
       "      <th>Just Chatting</th>\n",
       "      <td>5</td>\n",
       "    </tr>\n",
       "    <tr>\n",
       "      <th>League of Legends</th>\n",
       "      <td>5</td>\n",
       "    </tr>\n",
       "    <tr>\n",
       "      <th>Counter-Strike: Global Offensive</th>\n",
       "      <td>4</td>\n",
       "    </tr>\n",
       "    <tr>\n",
       "      <th>Old School RuneScape</th>\n",
       "      <td>2</td>\n",
       "    </tr>\n",
       "    <tr>\n",
       "      <th>VALORANT</th>\n",
       "      <td>2</td>\n",
       "    </tr>\n",
       "    <tr>\n",
       "      <th>ASMR</th>\n",
       "      <td>1</td>\n",
       "    </tr>\n",
       "    <tr>\n",
       "      <th>FIFA 21</th>\n",
       "      <td>1</td>\n",
       "    </tr>\n",
       "    <tr>\n",
       "      <th>Minecraft</th>\n",
       "      <td>1</td>\n",
       "    </tr>\n",
       "    <tr>\n",
       "      <th>Overwatch</th>\n",
       "      <td>1</td>\n",
       "    </tr>\n",
       "    <tr>\n",
       "      <th>Phasmophobia</th>\n",
       "      <td>1</td>\n",
       "    </tr>\n",
       "    <tr>\n",
       "      <th>Teamfight Tactics</th>\n",
       "      <td>1</td>\n",
       "    </tr>\n",
       "    <tr>\n",
       "      <th>World of Warcraft</th>\n",
       "      <td>1</td>\n",
       "    </tr>\n",
       "  </tbody>\n",
       "</table>\n",
       "</div>"
      ],
      "text/plain": [
       "                                  Number of Streamers\n",
       "Game Name                                            \n",
       "Call Of Duty: Modern Warfare                        7\n",
       "Fortnite                                            6\n",
       "Among Us                                            5\n",
       "Just Chatting                                       5\n",
       "League of Legends                                   5\n",
       "Counter-Strike: Global Offensive                    4\n",
       "Old School RuneScape                                2\n",
       "VALORANT                                            2\n",
       "ASMR                                                1\n",
       "FIFA 21                                             1\n",
       "Minecraft                                           1\n",
       "Overwatch                                           1\n",
       "Phasmophobia                                        1\n",
       "Teamfight Tactics                                   1\n",
       "World of Warcraft                                   1"
      ]
     },
     "execution_count": 6,
     "metadata": {},
     "output_type": "execute_result"
    }
   ],
   "source": [
    "# Get the count of the streamer based on each game\n",
    "df_streamer_count = df_merged.groupby('Game Name').count()\n",
    "\n",
    "# Sort the values in descending order\n",
    "df_streamer_count = df_streamer_count.sort_values(by = 'Channel', ascending = False)\n",
    "\n",
    "# Delete all unneccesary columns \n",
    "df_streamer_count = df_streamer_count[['Channel']]\n",
    "\n",
    "# Rename the column\n",
    "df_streamer_count = df_streamer_count.rename(columns = {'Channel':'Number of Streamers'})\n",
    "\n",
    "df_streamer_count"
   ]
  },
  {
   "cell_type": "markdown",
   "metadata": {},
   "source": [
    "### Conclusions:\n",
    "1. Fill something here\n",
    "2. Fill something here\n",
    "3. Fill something here\n"
   ]
  },
  {
   "cell_type": "code",
   "execution_count": null,
   "metadata": {},
   "outputs": [],
   "source": []
  }
 ],
 "metadata": {
  "kernelspec": {
   "display_name": "Python 3",
   "language": "python",
   "name": "python3"
  },
  "language_info": {
   "codemirror_mode": {
    "name": "ipython",
    "version": 3
   },
   "file_extension": ".py",
   "mimetype": "text/x-python",
   "name": "python",
   "nbconvert_exporter": "python",
   "pygments_lexer": "ipython3",
   "version": "3.7.6"
  }
 },
 "nbformat": 4,
 "nbformat_minor": 4
}
