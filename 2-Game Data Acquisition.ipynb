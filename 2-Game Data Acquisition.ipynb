{
 "cells": [
  {
   "cell_type": "markdown",
   "metadata": {},
   "source": [
    "# Game Data Acquisition"
   ]
  },
  {
   "cell_type": "markdown",
   "metadata": {},
   "source": [
    "#### Summary:\n",
    "1. Importing Dependencies\n",
    "2. Getting Game Name for top_50 Streamers: <br>\n",
    "     a. Extract the csv file from previous part <br>\n",
    "     b. Get the most recent Game ID based on twitch channel name <br>\n",
    "     c. Get Game Name based on the ID\n",
    "3. Save data to CSV as streamer_game_data.csv\n",
    "4. Get top 50 games on Twitch\n",
    "5. Save top 50 games data to CSV as top_game_ranking.csv\n",
    "\n",
    "Twitch API: https://dev.twitch.tv/docs/api/"
   ]
  },
  {
   "cell_type": "markdown",
   "metadata": {},
   "source": [
    "### 1. Importing Dependencies:"
   ]
  },
  {
   "cell_type": "code",
   "execution_count": 2,
   "metadata": {},
   "outputs": [],
   "source": [
    "import json\n",
    "import requests\n",
    "import pandas as pd\n",
    "from pandas.io.json import json_normalize\n",
    "import time\n",
    "import threading\n",
    "from api_key import (twitch_id, twitch_token)"
   ]
  },
  {
   "cell_type": "markdown",
   "metadata": {},
   "source": [
    "### 2. Getting Game Name:\n",
    "#### a. Extract CSV file for top 50 Streamers"
   ]
  },
  {
   "cell_type": "code",
   "execution_count": 2,
   "metadata": {},
   "outputs": [
    {
     "data": {
      "text/html": [
       "<div>\n",
       "<style scoped>\n",
       "    .dataframe tbody tr th:only-of-type {\n",
       "        vertical-align: middle;\n",
       "    }\n",
       "\n",
       "    .dataframe tbody tr th {\n",
       "        vertical-align: top;\n",
       "    }\n",
       "\n",
       "    .dataframe thead th {\n",
       "        text-align: right;\n",
       "    }\n",
       "</style>\n",
       "<table border=\"1\" class=\"dataframe\">\n",
       "  <thead>\n",
       "    <tr style=\"text-align: right;\">\n",
       "      <th></th>\n",
       "      <th>Channel</th>\n",
       "      <th>Watch time(Minutes)</th>\n",
       "      <th>Stream time(minutes)</th>\n",
       "      <th>Peak viewers</th>\n",
       "      <th>Average viewers</th>\n",
       "      <th>Followers</th>\n",
       "      <th>Followers gained</th>\n",
       "      <th>Views gained</th>\n",
       "      <th>Partnered</th>\n",
       "      <th>Mature</th>\n",
       "      <th>Language</th>\n",
       "    </tr>\n",
       "  </thead>\n",
       "  <tbody>\n",
       "    <tr>\n",
       "      <th>0</th>\n",
       "      <td>Tfue</td>\n",
       "      <td>3671000070</td>\n",
       "      <td>123660</td>\n",
       "      <td>285644</td>\n",
       "      <td>29602</td>\n",
       "      <td>8938903</td>\n",
       "      <td>2068424</td>\n",
       "      <td>78998587</td>\n",
       "      <td>True</td>\n",
       "      <td>False</td>\n",
       "      <td>English</td>\n",
       "    </tr>\n",
       "    <tr>\n",
       "      <th>1</th>\n",
       "      <td>shroud</td>\n",
       "      <td>888505170</td>\n",
       "      <td>30240</td>\n",
       "      <td>471281</td>\n",
       "      <td>29612</td>\n",
       "      <td>7744066</td>\n",
       "      <td>833587</td>\n",
       "      <td>30621257</td>\n",
       "      <td>True</td>\n",
       "      <td>False</td>\n",
       "      <td>English</td>\n",
       "    </tr>\n",
       "    <tr>\n",
       "      <th>2</th>\n",
       "      <td>Myth</td>\n",
       "      <td>1479214575</td>\n",
       "      <td>134760</td>\n",
       "      <td>122552</td>\n",
       "      <td>9396</td>\n",
       "      <td>6726893</td>\n",
       "      <td>1421811</td>\n",
       "      <td>37384058</td>\n",
       "      <td>True</td>\n",
       "      <td>False</td>\n",
       "      <td>English</td>\n",
       "    </tr>\n",
       "    <tr>\n",
       "      <th>3</th>\n",
       "      <td>pokimane</td>\n",
       "      <td>964334055</td>\n",
       "      <td>56505</td>\n",
       "      <td>112160</td>\n",
       "      <td>16026</td>\n",
       "      <td>5367605</td>\n",
       "      <td>2085831</td>\n",
       "      <td>45579002</td>\n",
       "      <td>True</td>\n",
       "      <td>False</td>\n",
       "      <td>English</td>\n",
       "    </tr>\n",
       "    <tr>\n",
       "      <th>4</th>\n",
       "      <td>summit1g</td>\n",
       "      <td>6091677300</td>\n",
       "      <td>211845</td>\n",
       "      <td>310998</td>\n",
       "      <td>25610</td>\n",
       "      <td>5310163</td>\n",
       "      <td>1370184</td>\n",
       "      <td>89705964</td>\n",
       "      <td>True</td>\n",
       "      <td>False</td>\n",
       "      <td>English</td>\n",
       "    </tr>\n",
       "  </tbody>\n",
       "</table>\n",
       "</div>"
      ],
      "text/plain": [
       "    Channel  Watch time(Minutes)  Stream time(minutes)  Peak viewers  \\\n",
       "0      Tfue           3671000070                123660        285644   \n",
       "1    shroud            888505170                 30240        471281   \n",
       "2      Myth           1479214575                134760        122552   \n",
       "3  pokimane            964334055                 56505        112160   \n",
       "4  summit1g           6091677300                211845        310998   \n",
       "\n",
       "   Average viewers  Followers  Followers gained  Views gained  Partnered  \\\n",
       "0            29602    8938903           2068424      78998587       True   \n",
       "1            29612    7744066            833587      30621257       True   \n",
       "2             9396    6726893           1421811      37384058       True   \n",
       "3            16026    5367605           2085831      45579002       True   \n",
       "4            25610    5310163           1370184      89705964       True   \n",
       "\n",
       "   Mature Language  \n",
       "0   False  English  \n",
       "1   False  English  \n",
       "2   False  English  \n",
       "3   False  English  \n",
       "4   False  English  "
      ]
     },
     "execution_count": 2,
     "metadata": {},
     "output_type": "execute_result"
    }
   ],
   "source": [
    "# Pulling top 50 data from csv file in Data\n",
    "df_top50 = pd.read_csv('Data/top_50_channel.csv')\n",
    "df_top50.head()"
   ]
  },
  {
   "cell_type": "markdown",
   "metadata": {},
   "source": [
    "#### b. Getting Game ID for each streamers:"
   ]
  },
  {
   "cell_type": "code",
   "execution_count": null,
   "metadata": {},
   "outputs": [],
   "source": [
    "# Setting up base API Calls\n",
    "# Setting up the URL\n",
    "url_channel = 'https://api.twitch.tv/helix/search/channels'\n",
    "headers_channel = {\n",
    "    'client-id': twitch_id,\n",
    "    'Authorization': twitch_token,\n",
    "}\n",
    "\n",
    "params_channel = (\n",
    "('query', 'a_seagull'),\n",
    ")\n",
    "    \n",
    "response = requests.get(url_channel, headers=headers_channel, params=params_channel).json()"
   ]
  },
  {
   "cell_type": "code",
   "execution_count": null,
   "metadata": {},
   "outputs": [],
   "source": [
    "# Setting up base API Calls\n",
    "# Setting up the URL\n",
    "url_channel = 'https://api.twitch.tv/helix/search/channels'\n",
    "url_games = 'https://api.twitch.tv/helix/games'\n",
    "\n",
    "# Setting up the headers\n",
    "headers_channel = {\n",
    "    'client-id': twitch_id,\n",
    "    'Authorization': twitch_token,\n",
    "}\n",
    "\n",
    "headers_games = {\n",
    "    'Authorization': twitch_token,\n",
    "    'Client-Id': twitch_id,\n",
    "}"
   ]
  },
  {
   "cell_type": "code",
   "execution_count": null,
   "metadata": {},
   "outputs": [],
   "source": [
    "# Creating game_id_list to hold all most recent Game ID for each streamers\n",
    "game_id_list = []\n",
    "\n",
    "# Itterrow to call Twitch API based on twitch channel name (streamer name)\n",
    "for index, row in df_top50.iterrows():\n",
    "    params_channel = (\n",
    "    ('query', row['Channel']),\n",
    "    )\n",
    "    \n",
    "    response = requests.get(url_channel, headers=headers_channel, params=params_channel).json()\n",
    "    results = response['data']\n",
    "    # Adding the most recent Game ID for each streamer to the game_id_list\n",
    "    game_id_list.append(results[0]['game_id'])\n"
   ]
  },
  {
   "cell_type": "code",
   "execution_count": null,
   "metadata": {},
   "outputs": [],
   "source": [
    "# Adding the Game ID to the Dataframe\n",
    "\n",
    "# Creating copy of original dataframe\n",
    "df_streamer_game = df_top50.copy()\n",
    "\n",
    "# Adding the Game ID to the dataframe\n",
    "df_streamer_game['Game ID'] = game_id_list\n",
    "df_streamer_game.head()"
   ]
  },
  {
   "cell_type": "markdown",
   "metadata": {},
   "source": [
    "#### c. Get Game Name based on Game ID:"
   ]
  },
  {
   "cell_type": "code",
   "execution_count": null,
   "metadata": {},
   "outputs": [],
   "source": [
    "# Cleaning up dataframe to show only needed Columns\n",
    "df_streamer_game = df_streamer_game[['Channel', 'Average viewers' , 'Followers', 'Game ID']]\n",
    "df_streamer_game.head()"
   ]
  },
  {
   "cell_type": "code",
   "execution_count": null,
   "metadata": {},
   "outputs": [],
   "source": [
    "# Creating an empty list of Game Name\n",
    "game_name = []\n",
    "\n",
    "# Itterrow to call Twitch API to get Game Name based on Game ID\n",
    "for index, row in df_streamer_game.iterrows():\n",
    "    params_games = (\n",
    "    ('id', row['Game ID']),\n",
    "    )\n",
    "    \n",
    "    response = requests.get(url_games, headers=headers_games, params=params_games).json()\n",
    "    results = response['data']\n",
    "    \n",
    "    # If no error, append the game name to the game_name list\n",
    "    try:\n",
    "        game_name.append(results[0]['name'])\n",
    "    \n",
    "    # If error occured, append 'NA' to the game_name list\n",
    "    except (KeyError, IndexError):\n",
    "        game_name.append('NA')\n"
   ]
  },
  {
   "cell_type": "code",
   "execution_count": null,
   "metadata": {},
   "outputs": [],
   "source": [
    "# Adding the Game Name to the dataframe\n",
    "\n",
    "# Creating copy of the previous dataframe\n",
    "df_complete = df_streamer_game.copy()\n",
    "\n",
    "# Adding the Game Name to the new Dataframe\n",
    "df_complete['Game Name'] = game_name\n",
    "\n",
    "df_complete.head()"
   ]
  },
  {
   "cell_type": "markdown",
   "metadata": {},
   "source": [
    "### 3. Save Data to CSV file:"
   ]
  },
  {
   "cell_type": "code",
   "execution_count": null,
   "metadata": {},
   "outputs": [],
   "source": [
    "df_complete.to_csv('Data/streamer_game_data.csv', index = False)"
   ]
  },
  {
   "cell_type": "markdown",
   "metadata": {},
   "source": [
    "### 4. Getting top 50 games on Twitch"
   ]
  },
  {
   "cell_type": "code",
   "execution_count": 3,
   "metadata": {},
   "outputs": [],
   "source": [
    "# Calling the Top Game from Twitch api\n",
    "\n",
    "headers = {\n",
    "    'client-id': twitch_id,\n",
    "    'Authorization': twitch_token,\n",
    "}\n",
    "\n",
    "params = (\n",
    "    ('first', '50'),\n",
    ")\n",
    "\n",
    "response = requests.get('https://api.twitch.tv/helix/games/top', headers=headers, params=params)\n"
   ]
  },
  {
   "cell_type": "code",
   "execution_count": null,
   "metadata": {},
   "outputs": [],
   "source": [
    "# Creating the top 50 games list\n",
    "top_game_list = []\n",
    "\n",
    "for games in range(50):\n",
    "    top_game_list.append(results[games]['name'])"
   ]
  },
  {
   "cell_type": "code",
   "execution_count": null,
   "metadata": {},
   "outputs": [],
   "source": [
    "# Create list of numbers for the rank\n",
    "Rank = list(range(1,51))\n",
    "\n",
    "# Create the DataFrame with Game Ranking and Game Name\n",
    "df_ranking = pd.DataFrame(Rank)\n",
    "df_ranking['Game Name']=name_list\n",
    "df_ranking = df_ranking.rename(columns = {'0':'Game Ranking'})\n",
    "\n",
    "df_ranking.head()"
   ]
  },
  {
   "cell_type": "markdown",
   "metadata": {},
   "source": [
    "### 5. Save Ranking file to CSV:"
   ]
  },
  {
   "cell_type": "code",
   "execution_count": null,
   "metadata": {},
   "outputs": [],
   "source": [
    "df_ranking.to_csv('Data/top_game_ranking.csv', index = False)"
   ]
  }
 ],
 "metadata": {
  "kernelspec": {
   "display_name": "Python 3",
   "language": "python",
   "name": "python3"
  },
  "language_info": {
   "codemirror_mode": {
    "name": "ipython",
    "version": 3
   },
   "file_extension": ".py",
   "mimetype": "text/x-python",
   "name": "python",
   "nbconvert_exporter": "python",
   "pygments_lexer": "ipython3",
   "version": "3.7.6"
  }
 },
 "nbformat": 4,
 "nbformat_minor": 4
}
