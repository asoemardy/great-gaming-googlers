{
 "cells": [
  {
   "cell_type": "markdown",
   "metadata": {},
   "source": [
    "# Game Historical Data\n"
   ]
  },
  {
   "cell_type": "markdown",
   "metadata": {},
   "source": [
    "#### Summary:\n",
    "1. Importing Dependencies\n",
    "2. Pull CSV from source for the top games of our choosing:\n",
    "    a. Among Us <br>\n",
    "    b. League of Legends <br>\n",
    "    c. Call of Duty: Modern Warfare <br>\n",
    "    d. Fortnite <br>\n",
    "    e. Counter Strike: Global Offensive <br>\n",
    "3. Clean up the data for each game\n",
    "4. Create a graph for average views and peak views\n",
    "5. Create a graph for average streams and peak streams\n",
    "6. Save all graph as PNG file\n",
    "7. Conclusions\n",
    "\n",
    "Data Source: https://twitchtracker.com/"
   ]
  },
  {
   "cell_type": "markdown",
   "metadata": {},
   "source": [
    "### 1. Importing Dependencies"
   ]
  },
  {
   "cell_type": "code",
   "execution_count": null,
   "metadata": {},
   "outputs": [],
   "source": []
  }
 ],
 "metadata": {
  "kernelspec": {
   "display_name": "Python 3",
   "language": "python",
   "name": "python3"
  },
  "language_info": {
   "codemirror_mode": {
    "name": "ipython",
    "version": 3
   },
   "file_extension": ".py",
   "mimetype": "text/x-python",
   "name": "python",
   "nbconvert_exporter": "python",
   "pygments_lexer": "ipython3",
   "version": "3.7.6"
  }
 },
 "nbformat": 4,
 "nbformat_minor": 4
}
